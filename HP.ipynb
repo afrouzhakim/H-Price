{
 "cells": [
  {
   "cell_type": "code",
   "execution_count": 1,
   "id": "0aff8512",
   "metadata": {},
   "outputs": [
    {
     "name": "stdout",
     "output_type": "stream",
     "text": [
      "Hose Price Prediction\n"
     ]
    }
   ],
   "source": [
    "print('Hose Price Prediction')"
   ]
  },
  {
   "cell_type": "code",
   "execution_count": null,
   "id": "d29ae1c9",
   "metadata": {},
   "outputs": [],
   "source": []
  }
 ],
 "metadata": {
  "kernelspec": {
   "display_name": "Python 3 (ipykernel)",
   "language": "python",
   "name": "python3"
  },
  "language_info": {
   "codemirror_mode": {
    "name": "ipython",
    "version": 3
   },
   "file_extension": ".py",
   "mimetype": "text/x-python",
   "name": "python",
   "nbconvert_exporter": "python",
   "pygments_lexer": "ipython3",
   "version": "3.10.7"
  }
 },
 "nbformat": 4,
 "nbformat_minor": 5
}
